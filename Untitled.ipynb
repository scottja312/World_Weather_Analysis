{
 "cells": [
  {
   "cell_type": "markdown",
   "metadata": {},
   "source": [
    "# Basic Project Plan"
   ]
  },
  {
   "cell_type": "code",
   "execution_count": 1,
   "metadata": {},
   "outputs": [],
   "source": [
    "#Task: Collect and analyze weather data across cities worldwide.\n",
    "\n",
    "#Purpose: PlanMyTrip will use the data \n",
    "#to recommend ideal hotels based on clients’ \n",
    "#weather preferences.\n",
    "\n",
    "#Method: Create a Pandas DataFrame with 500 or more \n",
    "# of the world’s unique cities and their \n",
    "# weather data in real time. \n",
    "# This process will entail collecting, \n",
    "# analyzing, and visualizing the data."
   ]
  },
  {
   "cell_type": "markdown",
   "metadata": {},
   "source": [
    "# 1. Collect the Data"
   ]
  },
  {
   "cell_type": "code",
   "execution_count": null,
   "metadata": {},
   "outputs": [],
   "source": [
    "# 1. Use the NumPy module to generate more \n",
    "    #than 1,500 random latitudes and longitudes.\n",
    "    \n",
    "# 2. Use the citipy module to list the nearest city \n",
    "    #to the latitudes and longitudes.\n",
    "\n",
    "# 3. Use the OpenWeatherMap API to request the current weather data \n",
    "    #from each unique city in your list.\n",
    "\n",
    "# 4. Parse the JSON data from the API request.\n",
    "\n",
    "# 5. Collect the following data from the JSON file \n",
    "    #and add it to a DataFrame:\n",
    "        #City, country, and date\n",
    "        #Latitude and longitude\n",
    "        #Maximum temperature\n",
    "        #Humidity\n",
    "        #Cloudiness\n",
    "        #Wind speed\n"
   ]
  },
  {
   "cell_type": "code",
   "execution_count": null,
   "metadata": {},
   "outputs": [],
   "source": []
  },
  {
   "cell_type": "markdown",
   "metadata": {},
   "source": [
    "# 2. Exploratory Analysis and Visualization"
   ]
  },
  {
   "cell_type": "markdown",
   "metadata": {},
   "source": [
    "# 3. Visualize Travel Data"
   ]
  },
  {
   "cell_type": "code",
   "execution_count": null,
   "metadata": {},
   "outputs": [],
   "source": []
  }
 ],
 "metadata": {
  "kernelspec": {
   "display_name": "Python 3",
   "language": "python",
   "name": "python3"
  },
  "language_info": {
   "codemirror_mode": {
    "name": "ipython",
    "version": 3
   },
   "file_extension": ".py",
   "mimetype": "text/x-python",
   "name": "python",
   "nbconvert_exporter": "python",
   "pygments_lexer": "ipython3",
   "version": "3.7.6"
  }
 },
 "nbformat": 4,
 "nbformat_minor": 4
}
