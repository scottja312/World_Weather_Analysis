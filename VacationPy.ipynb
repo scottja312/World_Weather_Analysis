{
 "cells": [
  {
   "cell_type": "markdown",
   "metadata": {},
   "source": [
    "# Import Dependencies and API Key."
   ]
  },
  {
   "cell_type": "code",
   "execution_count": 1,
   "metadata": {},
   "outputs": [],
   "source": [
    "# Import the dependencies.\n",
    "import pandas as pd\n",
    "import gmaps\n",
    "import requests\n",
    "\n",
    "# Import the API key.\n",
    "from config import g_key"
   ]
  },
  {
   "cell_type": "code",
   "execution_count": 2,
   "metadata": {},
   "outputs": [
    {
     "data": {
      "text/html": [
       "<div>\n",
       "<style scoped>\n",
       "    .dataframe tbody tr th:only-of-type {\n",
       "        vertical-align: middle;\n",
       "    }\n",
       "\n",
       "    .dataframe tbody tr th {\n",
       "        vertical-align: top;\n",
       "    }\n",
       "\n",
       "    .dataframe thead th {\n",
       "        text-align: right;\n",
       "    }\n",
       "</style>\n",
       "<table border=\"1\" class=\"dataframe\">\n",
       "  <thead>\n",
       "    <tr style=\"text-align: right;\">\n",
       "      <th></th>\n",
       "      <th>City_ID</th>\n",
       "      <th>City</th>\n",
       "      <th>Country</th>\n",
       "      <th>Date</th>\n",
       "      <th>Lat</th>\n",
       "      <th>Lng</th>\n",
       "      <th>Max Temp</th>\n",
       "      <th>Humidity</th>\n",
       "      <th>Cloudiness</th>\n",
       "      <th>Wind Speed</th>\n",
       "    </tr>\n",
       "  </thead>\n",
       "  <tbody>\n",
       "    <tr>\n",
       "      <th>0</th>\n",
       "      <td>0</td>\n",
       "      <td>Severo-Kurilsk</td>\n",
       "      <td>RU</td>\n",
       "      <td>2020-07-20 18:26:12</td>\n",
       "      <td>50.68</td>\n",
       "      <td>156.12</td>\n",
       "      <td>48.49</td>\n",
       "      <td>85</td>\n",
       "      <td>18</td>\n",
       "      <td>4.16</td>\n",
       "    </tr>\n",
       "    <tr>\n",
       "      <th>1</th>\n",
       "      <td>1</td>\n",
       "      <td>Albany</td>\n",
       "      <td>US</td>\n",
       "      <td>2020-07-20 18:29:50</td>\n",
       "      <td>42.60</td>\n",
       "      <td>-73.97</td>\n",
       "      <td>91.99</td>\n",
       "      <td>41</td>\n",
       "      <td>74</td>\n",
       "      <td>1.99</td>\n",
       "    </tr>\n",
       "    <tr>\n",
       "      <th>2</th>\n",
       "      <td>2</td>\n",
       "      <td>Batticaloa</td>\n",
       "      <td>LK</td>\n",
       "      <td>2020-07-20 18:31:12</td>\n",
       "      <td>7.71</td>\n",
       "      <td>81.69</td>\n",
       "      <td>80.22</td>\n",
       "      <td>83</td>\n",
       "      <td>100</td>\n",
       "      <td>13.15</td>\n",
       "    </tr>\n",
       "    <tr>\n",
       "      <th>3</th>\n",
       "      <td>3</td>\n",
       "      <td>Santa Rosa</td>\n",
       "      <td>PH</td>\n",
       "      <td>2020-07-20 18:31:12</td>\n",
       "      <td>14.31</td>\n",
       "      <td>121.11</td>\n",
       "      <td>81.00</td>\n",
       "      <td>83</td>\n",
       "      <td>0</td>\n",
       "      <td>3.36</td>\n",
       "    </tr>\n",
       "    <tr>\n",
       "      <th>4</th>\n",
       "      <td>4</td>\n",
       "      <td>Puerto Ayora</td>\n",
       "      <td>EC</td>\n",
       "      <td>2020-07-20 18:31:12</td>\n",
       "      <td>-0.74</td>\n",
       "      <td>-90.35</td>\n",
       "      <td>75.20</td>\n",
       "      <td>73</td>\n",
       "      <td>75</td>\n",
       "      <td>6.93</td>\n",
       "    </tr>\n",
       "  </tbody>\n",
       "</table>\n",
       "</div>"
      ],
      "text/plain": [
       "   City_ID            City Country                 Date    Lat     Lng  \\\n",
       "0        0  Severo-Kurilsk      RU  2020-07-20 18:26:12  50.68  156.12   \n",
       "1        1          Albany      US  2020-07-20 18:29:50  42.60  -73.97   \n",
       "2        2      Batticaloa      LK  2020-07-20 18:31:12   7.71   81.69   \n",
       "3        3      Santa Rosa      PH  2020-07-20 18:31:12  14.31  121.11   \n",
       "4        4    Puerto Ayora      EC  2020-07-20 18:31:12  -0.74  -90.35   \n",
       "\n",
       "   Max Temp  Humidity  Cloudiness  Wind Speed  \n",
       "0     48.49        85          18        4.16  \n",
       "1     91.99        41          74        1.99  \n",
       "2     80.22        83         100       13.15  \n",
       "3     81.00        83           0        3.36  \n",
       "4     75.20        73          75        6.93  "
      ]
     },
     "execution_count": 2,
     "metadata": {},
     "output_type": "execute_result"
    }
   ],
   "source": [
    "# Store the CSV you saved created in part one into a DataFrame.\n",
    "city_data_df = pd.read_csv(\"weather_data/cities.csv\")\n",
    "city_data_df.head()"
   ]
  },
  {
   "cell_type": "code",
   "execution_count": 3,
   "metadata": {},
   "outputs": [
    {
     "data": {
      "text/plain": [
       "City_ID         int64\n",
       "City           object\n",
       "Country        object\n",
       "Date           object\n",
       "Lat           float64\n",
       "Lng           float64\n",
       "Max Temp      float64\n",
       "Humidity        int64\n",
       "Cloudiness      int64\n",
       "Wind Speed    float64\n",
       "dtype: object"
      ]
     },
     "execution_count": 3,
     "metadata": {},
     "output_type": "execute_result"
    }
   ],
   "source": [
    "# Get the data types.\n",
    "city_data_df.dtypes"
   ]
  },
  {
   "cell_type": "code",
   "execution_count": 4,
   "metadata": {},
   "outputs": [],
   "source": [
    "# Configure gmaps to use your Google API key.\n",
    "gmaps.configure(api_key=g_key)"
   ]
  },
  {
   "cell_type": "code",
   "execution_count": 5,
   "metadata": {},
   "outputs": [],
   "source": [
    "# Get the maximum temperature.\n",
    "max_temp = city_data_df[\"Max Temp\"]\n",
    "temps = []\n",
    "for temp in max_temp:\n",
    "    temps.append(max(temp, 0))"
   ]
  },
  {
   "cell_type": "code",
   "execution_count": 6,
   "metadata": {},
   "outputs": [
    {
     "data": {
      "application/vnd.jupyter.widget-view+json": {
       "model_id": "0884cf3f43de41a08036ff9312898949",
       "version_major": 2,
       "version_minor": 0
      },
      "text/plain": [
       "Figure(layout=FigureLayout(height='420px'))"
      ]
     },
     "metadata": {},
     "output_type": "display_data"
    }
   ],
   "source": [
    "# 1. Assign the locations to an array of latitude and longitude pairs.\n",
    "locations = city_data_df[[\"Lat\", \"Lng\"]]\n",
    "\n",
    "# 2. Assign the heatmap_layer_weights variable to some values.\n",
    "max_temp = city_data_df[\"Max Temp\"]\n",
    "\n",
    "# 3. Assign the figure variable to the gmaps.figure() attribute.\n",
    "fig = gmaps.figure()\n",
    "\n",
    "# 4. Assign the heatmap_layer variable to the heatmap_layer attribute and add in the locations.\n",
    "heat_layer = gmaps.heatmap_layer(locations, weights=[max(temp, 0) for temp in max_temp])\n",
    "\n",
    "# 5. Add the heatmap layer.\n",
    "fig.add_layer(heat_layer)\n",
    "\n",
    "# 6. Call the figure to plot the data.\n",
    "fig"
   ]
  },
  {
   "cell_type": "code",
   "execution_count": 7,
   "metadata": {},
   "outputs": [
    {
     "data": {
      "application/vnd.jupyter.widget-view+json": {
       "model_id": "0b0290dd74b2477e95a930dd08d5dfdc",
       "version_major": 2,
       "version_minor": 0
      },
      "text/plain": [
       "Figure(layout=FigureLayout(height='420px'))"
      ]
     },
     "metadata": {},
     "output_type": "display_data"
    }
   ],
   "source": [
    "# Heatmap of percent humidity\n",
    "locations = city_data_df[[\"Lat\", \"Lng\"]]\n",
    "humidity = city_data_df[\"Humidity\"]\n",
    "fig = gmaps.figure(center=(30.0, 31.0), zoom_level=1.5)\n",
    "heat_layer = gmaps.heatmap_layer(locations, weights=humidity, dissipating=False, max_intensity=300, point_radius=4)\n",
    "\n",
    "fig.add_layer(heat_layer)\n",
    "# Call the figure to plot the data.\n",
    "fig"
   ]
  },
  {
   "cell_type": "code",
   "execution_count": 8,
   "metadata": {},
   "outputs": [
    {
     "data": {
      "application/vnd.jupyter.widget-view+json": {
       "model_id": "c0494254f0ba499a9cd7a6a4ac7ddd11",
       "version_major": 2,
       "version_minor": 0
      },
      "text/plain": [
       "Figure(layout=FigureLayout(height='420px'))"
      ]
     },
     "metadata": {},
     "output_type": "display_data"
    }
   ],
   "source": [
    "# Heatmap of percent cloudiness\n",
    "locations = city_data_df[[\"Lat\", \"Lng\"]]\n",
    "clouds = city_data_df[\"Humidity\"]\n",
    "fig = gmaps.figure(center=(30.0, 31.0), zoom_level=1.5)\n",
    "heat_layer = gmaps.heatmap_layer(locations, weights=clouds, dissipating=False, max_intensity=300, point_radius=4)\n",
    "\n",
    "fig.add_layer(heat_layer)\n",
    "# Call the figure to plot the data.\n",
    "fig"
   ]
  },
  {
   "cell_type": "code",
   "execution_count": 9,
   "metadata": {
    "scrolled": true
   },
   "outputs": [
    {
     "data": {
      "application/vnd.jupyter.widget-view+json": {
       "model_id": "d86cba9c6bea40b6b741caf55a5be005",
       "version_major": 2,
       "version_minor": 0
      },
      "text/plain": [
       "Figure(layout=FigureLayout(height='420px'))"
      ]
     },
     "metadata": {},
     "output_type": "display_data"
    }
   ],
   "source": [
    "# Heatmap of windspeed\n",
    "locations = city_data_df[[\"Lat\", \"Lng\"]]\n",
    "wind = city_data_df[\"Wind Speed\"]\n",
    "fig = gmaps.figure(center=(30.0, 31.0), zoom_level=1.5)\n",
    "heat_layer = gmaps.heatmap_layer(locations, weights=wind, dissipating=False, max_intensity=300, point_radius=4)\n",
    "\n",
    "fig.add_layer(heat_layer)\n",
    "# Call the figure to plot the data.\n",
    "fig"
   ]
  },
  {
   "cell_type": "code",
   "execution_count": 21,
   "metadata": {},
   "outputs": [
    {
     "name": "stdout",
     "output_type": "stream",
     "text": [
      "What is the minimum temperature you would like for your trip? 68\n",
      "What is the maximum temperature you would like for your trip? 80\n"
     ]
    }
   ],
   "source": [
    "# Ask the customer to add a minimum and maximum temperature value.\n",
    "min_temp = float(input(\"What is the minimum temperature you would like for your trip? \"))\n",
    "max_temp = float(input(\"What is the maximum temperature you would like for your trip? \"))"
   ]
  },
  {
   "cell_type": "code",
   "execution_count": 23,
   "metadata": {},
   "outputs": [
    {
     "data": {
      "text/html": [
       "<div>\n",
       "<style scoped>\n",
       "    .dataframe tbody tr th:only-of-type {\n",
       "        vertical-align: middle;\n",
       "    }\n",
       "\n",
       "    .dataframe tbody tr th {\n",
       "        vertical-align: top;\n",
       "    }\n",
       "\n",
       "    .dataframe thead th {\n",
       "        text-align: right;\n",
       "    }\n",
       "</style>\n",
       "<table border=\"1\" class=\"dataframe\">\n",
       "  <thead>\n",
       "    <tr style=\"text-align: right;\">\n",
       "      <th></th>\n",
       "      <th>City_ID</th>\n",
       "      <th>City</th>\n",
       "      <th>Country</th>\n",
       "      <th>Date</th>\n",
       "      <th>Lat</th>\n",
       "      <th>Lng</th>\n",
       "      <th>Max Temp</th>\n",
       "      <th>Humidity</th>\n",
       "      <th>Cloudiness</th>\n",
       "      <th>Wind Speed</th>\n",
       "    </tr>\n",
       "  </thead>\n",
       "  <tbody>\n",
       "    <tr>\n",
       "      <th>4</th>\n",
       "      <td>4</td>\n",
       "      <td>Puerto Ayora</td>\n",
       "      <td>EC</td>\n",
       "      <td>2020-07-20 18:31:12</td>\n",
       "      <td>-0.74</td>\n",
       "      <td>-90.35</td>\n",
       "      <td>75.20</td>\n",
       "      <td>73</td>\n",
       "      <td>75</td>\n",
       "      <td>6.93</td>\n",
       "    </tr>\n",
       "    <tr>\n",
       "      <th>6</th>\n",
       "      <td>6</td>\n",
       "      <td>Sokoni</td>\n",
       "      <td>TZ</td>\n",
       "      <td>2020-07-20 18:31:13</td>\n",
       "      <td>-6.43</td>\n",
       "      <td>39.55</td>\n",
       "      <td>75.20</td>\n",
       "      <td>78</td>\n",
       "      <td>20</td>\n",
       "      <td>10.29</td>\n",
       "    </tr>\n",
       "    <tr>\n",
       "      <th>8</th>\n",
       "      <td>8</td>\n",
       "      <td>Rikitea</td>\n",
       "      <td>PF</td>\n",
       "      <td>2020-07-20 18:31:13</td>\n",
       "      <td>-23.12</td>\n",
       "      <td>-134.97</td>\n",
       "      <td>68.11</td>\n",
       "      <td>60</td>\n",
       "      <td>75</td>\n",
       "      <td>14.92</td>\n",
       "    </tr>\n",
       "    <tr>\n",
       "      <th>17</th>\n",
       "      <td>17</td>\n",
       "      <td>Avarua</td>\n",
       "      <td>CK</td>\n",
       "      <td>2020-07-20 18:31:15</td>\n",
       "      <td>-21.21</td>\n",
       "      <td>-159.78</td>\n",
       "      <td>75.20</td>\n",
       "      <td>78</td>\n",
       "      <td>100</td>\n",
       "      <td>23.04</td>\n",
       "    </tr>\n",
       "    <tr>\n",
       "      <th>18</th>\n",
       "      <td>18</td>\n",
       "      <td>Robertsport</td>\n",
       "      <td>LR</td>\n",
       "      <td>2020-07-20 18:31:15</td>\n",
       "      <td>6.75</td>\n",
       "      <td>-11.37</td>\n",
       "      <td>76.93</td>\n",
       "      <td>86</td>\n",
       "      <td>100</td>\n",
       "      <td>15.57</td>\n",
       "    </tr>\n",
       "    <tr>\n",
       "      <th>27</th>\n",
       "      <td>27</td>\n",
       "      <td>Ponta Do Sol</td>\n",
       "      <td>PT</td>\n",
       "      <td>2020-07-20 18:28:33</td>\n",
       "      <td>32.67</td>\n",
       "      <td>-17.10</td>\n",
       "      <td>72.00</td>\n",
       "      <td>63</td>\n",
       "      <td>0</td>\n",
       "      <td>3.00</td>\n",
       "    </tr>\n",
       "    <tr>\n",
       "      <th>31</th>\n",
       "      <td>31</td>\n",
       "      <td>Loikaw</td>\n",
       "      <td>MM</td>\n",
       "      <td>2020-07-20 18:31:16</td>\n",
       "      <td>19.67</td>\n",
       "      <td>97.21</td>\n",
       "      <td>70.39</td>\n",
       "      <td>91</td>\n",
       "      <td>100</td>\n",
       "      <td>1.92</td>\n",
       "    </tr>\n",
       "    <tr>\n",
       "      <th>33</th>\n",
       "      <td>33</td>\n",
       "      <td>Urumqi</td>\n",
       "      <td>CN</td>\n",
       "      <td>2020-07-20 18:31:17</td>\n",
       "      <td>43.80</td>\n",
       "      <td>87.60</td>\n",
       "      <td>78.80</td>\n",
       "      <td>41</td>\n",
       "      <td>100</td>\n",
       "      <td>6.71</td>\n",
       "    </tr>\n",
       "    <tr>\n",
       "      <th>35</th>\n",
       "      <td>35</td>\n",
       "      <td>Noumea</td>\n",
       "      <td>NC</td>\n",
       "      <td>2020-07-20 18:30:03</td>\n",
       "      <td>-22.28</td>\n",
       "      <td>166.46</td>\n",
       "      <td>68.00</td>\n",
       "      <td>93</td>\n",
       "      <td>75</td>\n",
       "      <td>3.36</td>\n",
       "    </tr>\n",
       "    <tr>\n",
       "      <th>47</th>\n",
       "      <td>47</td>\n",
       "      <td>Hilo</td>\n",
       "      <td>US</td>\n",
       "      <td>2020-07-20 18:31:18</td>\n",
       "      <td>19.73</td>\n",
       "      <td>-155.09</td>\n",
       "      <td>79.00</td>\n",
       "      <td>65</td>\n",
       "      <td>90</td>\n",
       "      <td>5.82</td>\n",
       "    </tr>\n",
       "  </tbody>\n",
       "</table>\n",
       "</div>"
      ],
      "text/plain": [
       "    City_ID          City Country                 Date    Lat     Lng  \\\n",
       "4         4  Puerto Ayora      EC  2020-07-20 18:31:12  -0.74  -90.35   \n",
       "6         6        Sokoni      TZ  2020-07-20 18:31:13  -6.43   39.55   \n",
       "8         8       Rikitea      PF  2020-07-20 18:31:13 -23.12 -134.97   \n",
       "17       17        Avarua      CK  2020-07-20 18:31:15 -21.21 -159.78   \n",
       "18       18   Robertsport      LR  2020-07-20 18:31:15   6.75  -11.37   \n",
       "27       27  Ponta Do Sol      PT  2020-07-20 18:28:33  32.67  -17.10   \n",
       "31       31        Loikaw      MM  2020-07-20 18:31:16  19.67   97.21   \n",
       "33       33        Urumqi      CN  2020-07-20 18:31:17  43.80   87.60   \n",
       "35       35        Noumea      NC  2020-07-20 18:30:03 -22.28  166.46   \n",
       "47       47          Hilo      US  2020-07-20 18:31:18  19.73 -155.09   \n",
       "\n",
       "    Max Temp  Humidity  Cloudiness  Wind Speed  \n",
       "4      75.20        73          75        6.93  \n",
       "6      75.20        78          20       10.29  \n",
       "8      68.11        60          75       14.92  \n",
       "17     75.20        78         100       23.04  \n",
       "18     76.93        86         100       15.57  \n",
       "27     72.00        63           0        3.00  \n",
       "31     70.39        91         100        1.92  \n",
       "33     78.80        41         100        6.71  \n",
       "35     68.00        93          75        3.36  \n",
       "47     79.00        65          90        5.82  "
      ]
     },
     "execution_count": 23,
     "metadata": {},
     "output_type": "execute_result"
    }
   ],
   "source": [
    "# Filter the dataset to find the cities that fit the criteria.\n",
    "preferred_cities_df = city_data_df.loc[(city_data_df[\"Max Temp\"] <= max_temp) & \\\n",
    "                                       (city_data_df[\"Max Temp\"] >= min_temp)]\n",
    "preferred_cities_df.head(10)"
   ]
  },
  {
   "cell_type": "code",
   "execution_count": 24,
   "metadata": {},
   "outputs": [
    {
     "data": {
      "text/plain": [
       "City_ID       203\n",
       "City          203\n",
       "Country       201\n",
       "Date          203\n",
       "Lat           203\n",
       "Lng           203\n",
       "Max Temp      203\n",
       "Humidity      203\n",
       "Cloudiness    203\n",
       "Wind Speed    203\n",
       "dtype: int64"
      ]
     },
     "execution_count": 24,
     "metadata": {},
     "output_type": "execute_result"
    }
   ],
   "source": [
    "preferred_cities_df.count()"
   ]
  },
  {
   "cell_type": "code",
   "execution_count": 25,
   "metadata": {},
   "outputs": [
    {
     "data": {
      "text/html": [
       "<div>\n",
       "<style scoped>\n",
       "    .dataframe tbody tr th:only-of-type {\n",
       "        vertical-align: middle;\n",
       "    }\n",
       "\n",
       "    .dataframe tbody tr th {\n",
       "        vertical-align: top;\n",
       "    }\n",
       "\n",
       "    .dataframe thead th {\n",
       "        text-align: right;\n",
       "    }\n",
       "</style>\n",
       "<table border=\"1\" class=\"dataframe\">\n",
       "  <thead>\n",
       "    <tr style=\"text-align: right;\">\n",
       "      <th></th>\n",
       "      <th>City</th>\n",
       "      <th>Country</th>\n",
       "      <th>Max Temp</th>\n",
       "      <th>Lat</th>\n",
       "      <th>Lng</th>\n",
       "      <th>Hotel Name</th>\n",
       "    </tr>\n",
       "  </thead>\n",
       "  <tbody>\n",
       "    <tr>\n",
       "      <th>4</th>\n",
       "      <td>Puerto Ayora</td>\n",
       "      <td>EC</td>\n",
       "      <td>75.20</td>\n",
       "      <td>-0.74</td>\n",
       "      <td>-90.35</td>\n",
       "      <td></td>\n",
       "    </tr>\n",
       "    <tr>\n",
       "      <th>6</th>\n",
       "      <td>Sokoni</td>\n",
       "      <td>TZ</td>\n",
       "      <td>75.20</td>\n",
       "      <td>-6.43</td>\n",
       "      <td>39.55</td>\n",
       "      <td></td>\n",
       "    </tr>\n",
       "    <tr>\n",
       "      <th>8</th>\n",
       "      <td>Rikitea</td>\n",
       "      <td>PF</td>\n",
       "      <td>68.11</td>\n",
       "      <td>-23.12</td>\n",
       "      <td>-134.97</td>\n",
       "      <td></td>\n",
       "    </tr>\n",
       "    <tr>\n",
       "      <th>17</th>\n",
       "      <td>Avarua</td>\n",
       "      <td>CK</td>\n",
       "      <td>75.20</td>\n",
       "      <td>-21.21</td>\n",
       "      <td>-159.78</td>\n",
       "      <td></td>\n",
       "    </tr>\n",
       "    <tr>\n",
       "      <th>18</th>\n",
       "      <td>Robertsport</td>\n",
       "      <td>LR</td>\n",
       "      <td>76.93</td>\n",
       "      <td>6.75</td>\n",
       "      <td>-11.37</td>\n",
       "      <td></td>\n",
       "    </tr>\n",
       "    <tr>\n",
       "      <th>27</th>\n",
       "      <td>Ponta Do Sol</td>\n",
       "      <td>PT</td>\n",
       "      <td>72.00</td>\n",
       "      <td>32.67</td>\n",
       "      <td>-17.10</td>\n",
       "      <td></td>\n",
       "    </tr>\n",
       "    <tr>\n",
       "      <th>31</th>\n",
       "      <td>Loikaw</td>\n",
       "      <td>MM</td>\n",
       "      <td>70.39</td>\n",
       "      <td>19.67</td>\n",
       "      <td>97.21</td>\n",
       "      <td></td>\n",
       "    </tr>\n",
       "    <tr>\n",
       "      <th>33</th>\n",
       "      <td>Urumqi</td>\n",
       "      <td>CN</td>\n",
       "      <td>78.80</td>\n",
       "      <td>43.80</td>\n",
       "      <td>87.60</td>\n",
       "      <td></td>\n",
       "    </tr>\n",
       "    <tr>\n",
       "      <th>35</th>\n",
       "      <td>Noumea</td>\n",
       "      <td>NC</td>\n",
       "      <td>68.00</td>\n",
       "      <td>-22.28</td>\n",
       "      <td>166.46</td>\n",
       "      <td></td>\n",
       "    </tr>\n",
       "    <tr>\n",
       "      <th>47</th>\n",
       "      <td>Hilo</td>\n",
       "      <td>US</td>\n",
       "      <td>79.00</td>\n",
       "      <td>19.73</td>\n",
       "      <td>-155.09</td>\n",
       "      <td></td>\n",
       "    </tr>\n",
       "  </tbody>\n",
       "</table>\n",
       "</div>"
      ],
      "text/plain": [
       "            City Country  Max Temp    Lat     Lng Hotel Name\n",
       "4   Puerto Ayora      EC     75.20  -0.74  -90.35           \n",
       "6         Sokoni      TZ     75.20  -6.43   39.55           \n",
       "8        Rikitea      PF     68.11 -23.12 -134.97           \n",
       "17        Avarua      CK     75.20 -21.21 -159.78           \n",
       "18   Robertsport      LR     76.93   6.75  -11.37           \n",
       "27  Ponta Do Sol      PT     72.00  32.67  -17.10           \n",
       "31        Loikaw      MM     70.39  19.67   97.21           \n",
       "33        Urumqi      CN     78.80  43.80   87.60           \n",
       "35        Noumea      NC     68.00 -22.28  166.46           \n",
       "47          Hilo      US     79.00  19.73 -155.09           "
      ]
     },
     "execution_count": 25,
     "metadata": {},
     "output_type": "execute_result"
    }
   ],
   "source": [
    "# Create DataFrame called hotel_df to store hotel names along with city, country, max temp, and coordinates.\n",
    "hotel_df = preferred_cities_df[[\"City\", \"Country\", \"Max Temp\", \"Lat\", \"Lng\"]].copy()\n",
    "hotel_df[\"Hotel Name\"] = \"\"\n",
    "hotel_df.head(10)"
   ]
  },
  {
   "cell_type": "code",
   "execution_count": 26,
   "metadata": {},
   "outputs": [],
   "source": [
    "# Set parameters to search for a hotel.\n",
    "params = {\n",
    "    \"radius\": 5000,\n",
    "    \"type\": \"lodging\",\n",
    "    \"key\": g_key\n",
    "}"
   ]
  },
  {
   "cell_type": "code",
   "execution_count": 27,
   "metadata": {},
   "outputs": [],
   "source": [
    "# Dependencies and Setup\n",
    "import requests\n",
    "import gmaps\n",
    "\n",
    "# Import API key\n",
    "from config import g_key"
   ]
  },
  {
   "cell_type": "code",
   "execution_count": 28,
   "metadata": {},
   "outputs": [],
   "source": [
    "# Set the parameters to search for a hotel in Paris.\n",
    "params = {\n",
    "    \"radius\": 5000,\n",
    "    \"types\": \"lodging\",\n",
    "    \"key\": g_key,\n",
    "    \"location\": \"48.8566, 2.3522\"}\n",
    "# Use base URL to search for hotels in Paris.\n",
    "base_url = \"https://maps.googleapis.com/maps/api/place/nearbysearch/json\"\n",
    "# Make request and get the JSON data from the search.\n",
    "hotels = requests.get(base_url, params=params).json()"
   ]
  },
  {
   "cell_type": "code",
   "execution_count": 30,
   "metadata": {},
   "outputs": [
    {
     "name": "stdout",
     "output_type": "stream",
     "text": [
      "{'html_attributions': [], 'next_page_token': 'CqQCHAEAAPS_-qqORZe2lmJKTtJXmQBzTHqIHASyvImeoqGkywgWHHiZupoRFBs0uK-4kGxwMH-6DHtYRKt-1bcdIPScK5l_K3tjxFfA3fe-ewG3QGArSeURjDTSs7oV7lW6MG1iyRQxzhweRDU_-xoI42HAqoTOCihAktoW98CKohGkhatSdPEjVlMXkBMHpe8FbrJbvN2PCc2yDTwAIjOQkVb8G3svmR5M-YjbaF9cOWtD64OqNEp1-tcWoRtHW5ypxw_Q3YaUBtcb_K82xKGUZRVYjTRkHoZkYWN-spMZxkwp2G86C8I8FqO7CXEzw8sJ50QKk-UthtCDQ3oH6gmzNo16fL_uRaiTERx_cgGNSm4OoRUkkFJSj2KgVokYCCd_OiWprBIQ5utSc_RsTg8RKr0OIPlDUxoUvvoD0VkkkYnJ6q0NS8EHnOCT3HI', 'results': [{'business_status': 'OPERATIONAL', 'geometry': {'location': {'lat': 48.8581126, 'lng': 2.3529277}, 'viewport': {'northeast': {'lat': 48.8594393802915, 'lng': 2.354352980291502}, 'southwest': {'lat': 48.8567414197085, 'lng': 2.351655019708498}}}, 'icon': 'https://maps.gstatic.com/mapfiles/place_api/icons/lodging-71.png', 'id': '7fa47cb61d7345cecc3b802d0e04fcff2b3d5ecb', 'name': 'Hôtel Duo', 'opening_hours': {'open_now': True}, 'photos': [{'height': 3840, 'html_attributions': ['<a href=\"https://maps.google.com/maps/contrib/107554201425443337224\">Hôtel Duo</a>'], 'photo_reference': 'CmRaAAAALpxDKo6tJEw4o1Vy-oqYMRstwnVE4JHWJ4y8I80EaOIe21qliD1fn8Xe4Tf9lkhl9vFpVbvbFvDZ9jySrNoZ6ltEuFXN6WtvvcYWZQHezpBbPaBTBejQ3F4J77V1LzoaEhAYnW5WX_x0M7QpPSRUtidGGhRBS3DeOzPBNkNRYq8s2GDoHsu1uw', 'width': 5760}], 'place_id': 'ChIJWU9CqB1u5kcR5P1F2SMoJmc', 'plus_code': {'compound_code': 'V953+65 Paris, France', 'global_code': '8FW4V953+65'}, 'rating': 4.2, 'reference': 'ChIJWU9CqB1u5kcR5P1F2SMoJmc', 'scope': 'GOOGLE', 'types': ['night_club', 'spa', 'lodging', 'bar', 'gym', 'health', 'point_of_interest', 'establishment'], 'user_ratings_total': 266, 'vicinity': '11 Rue du Temple, Paris'}, {'business_status': 'OPERATIONAL', 'geometry': {'location': {'lat': 48.8582861, 'lng': 2.3464944}, 'viewport': {'northeast': {'lat': 48.8595495802915, 'lng': 2.347780980291502}, 'southwest': {'lat': 48.8568516197085, 'lng': 2.345083019708498}}}, 'icon': 'https://maps.gstatic.com/mapfiles/place_api/icons/lodging-71.png', 'id': '4d2e3fa9d12bf9feb685e628eaa4da9b180956a9', 'name': 'Hôtel Britannique - Paris Louvre', 'opening_hours': {'open_now': True}, 'photos': [{'height': 1426, 'html_attributions': ['<a href=\"https://maps.google.com/maps/contrib/108984000175492464929\">Hôtel Britannique - Paris Louvre</a>'], 'photo_reference': 'CmRaAAAARWwrVmIRy8D37up_OzsmRTtwh5bXQN_mxoaU4uKigCvJcec69sIHBhuv3B9sUQLnlGzYG835BCLyrHEuD9bv6dyT15W1CmplkVk4pfOZthmd3nvGdiKSl8vjpn809BJ-EhCgNqviUuQ-BKJP64vQrgimGhRxju9ZefYhC2gHmQWr4bz0iYVsNg', 'width': 1476}], 'place_id': 'ChIJ-4Siox9u5kcRm9vM6DcMXyU', 'plus_code': {'compound_code': 'V85W+8H Paris, France', 'global_code': '8FW4V85W+8H'}, 'rating': 4.5, 'reference': 'ChIJ-4Siox9u5kcRm9vM6DcMXyU', 'scope': 'GOOGLE', 'types': ['lodging', 'point_of_interest', 'establishment'], 'user_ratings_total': 268, 'vicinity': '20 Avenue Victoria, Paris'}, {'business_status': 'OPERATIONAL', 'geometry': {'location': {'lat': 48.8606655, 'lng': 2.3469293}, 'viewport': {'northeast': {'lat': 48.8618387802915, 'lng': 2.348475730291502}, 'southwest': {'lat': 48.85914081970851, 'lng': 2.345777769708498}}}, 'icon': 'https://maps.gstatic.com/mapfiles/place_api/icons/lodging-71.png', 'id': '9f68a76d7e95a1f94ca131a0511bfe5ffa306818', 'name': 'Citadines Les Halles Paris (Apart Hotel Paris)', 'opening_hours': {'open_now': True}, 'photos': [{'height': 496, 'html_attributions': ['<a href=\"https://maps.google.com/maps/contrib/102565262508115704337\">Citadines Les Halles Paris (Apart Hotel Paris)</a>'], 'photo_reference': 'CmRaAAAAx92X4AVAUSJA9dyVZI1fid_5rXFccBB4ks_HZSXtxWhcz6Slpp8Texs5nQ-EI4Mnrnu4kF2gy5g3gn6PBx8YgkCBwaA2lcodtVadRc6ypiIfBngSaWE2E-lMaOYiQaWlEhDRblktbL_pvQMySKAAo7lGGhQFdGrqUrfFDhA6-Msm-Ab4ARXi5A', 'width': 745}], 'place_id': 'ChIJQ_QDrxhu5kcRJzNxLLEOSfU', 'plus_code': {'compound_code': 'V86W+7Q Paris, France', 'global_code': '8FW4V86W+7Q'}, 'rating': 4.1, 'reference': 'ChIJQ_QDrxhu5kcRJzNxLLEOSfU', 'scope': 'GOOGLE', 'types': ['lodging', 'point_of_interest', 'establishment'], 'user_ratings_total': 797, 'vicinity': '4 Rue des Innocents, Paris'}, {'business_status': 'OPERATIONAL', 'geometry': {'location': {'lat': 48.8607769, 'lng': 2.3463217}, 'viewport': {'northeast': {'lat': 48.8620135802915, 'lng': 2.347597080291502}, 'southwest': {'lat': 48.8593156197085, 'lng': 2.344899119708498}}}, 'icon': 'https://maps.gstatic.com/mapfiles/place_api/icons/lodging-71.png', 'id': 'd0fde78ef5688caa69780be22af2ec83d4adfd32', 'name': 'Novotel Paris Les Halles', 'opening_hours': {'open_now': True}, 'photos': [{'height': 2000, 'html_attributions': ['<a href=\"https://maps.google.com/maps/contrib/111815616573299411056\">Novotel Paris Les Halles</a>'], 'photo_reference': 'CmRaAAAAcGFAfiUy4xO5TwDIzkBP3PjRk4e_6WwXYlsccFZcDzFWB_GqZ0oFueDcFZZiwzO9bGC8U-dpFlUEwpwkbxKpPzMvwLWoH6eXQR_WBNodOntXv8T8w7UAf9Rsc4QiGaAnEhCtkjbb04JcDFc3uNhwKzcgGhRXVcP6OSRDUMr2uGGoSJcKJx-GnA', 'width': 3000}], 'place_id': 'ChIJGW2pNx9u5kcRI3oyL8NG5BQ', 'plus_code': {'compound_code': 'V86W+8G Paris, France', 'global_code': '8FW4V86W+8G'}, 'rating': 4.4, 'reference': 'ChIJGW2pNx9u5kcRI3oyL8NG5BQ', 'scope': 'GOOGLE', 'types': ['lodging', 'point_of_interest', 'establishment'], 'user_ratings_total': 2018, 'vicinity': '8 Place Marguerite de Navarre, Paris'}, {'business_status': 'OPERATIONAL', 'geometry': {'location': {'lat': 48.86034799999999, 'lng': 2.344054}, 'viewport': {'northeast': {'lat': 48.8616503302915, 'lng': 2.345521080291502}, 'southwest': {'lat': 48.8589523697085, 'lng': 2.342823119708498}}}, 'icon': 'https://maps.gstatic.com/mapfiles/place_api/icons/lodging-71.png', 'id': '071875f44126b9c8284f24b598fdfce0ef2b15a8', 'name': 'Hôtel Ducs de Bourgogne', 'opening_hours': {'open_now': True}, 'photos': [{'height': 1842, 'html_attributions': ['<a href=\"https://maps.google.com/maps/contrib/101411638353598558320\">Best Western Premier Ducs de Bourgogne</a>'], 'photo_reference': 'CmRaAAAAyXzzPMf-yshGq6a8qc83O9RRN6wai2wA5ycEW0-9QLfG8c_O_w7fW4ujj70AyKZnLVouf9DhwxnIl-_p8ztUyGLmvZZqyvcIUQ7G2IpvDnUaRG8ERRBVOpN_0rFq9rtkEhCus4yWsdTPrFG71UjBhor5GhTxZGgNQX6DhtRbbg_xZRpO2xgHVw', 'width': 2880}], 'place_id': 'ChIJifTG5yFu5kcRdnisbwxnAx4', 'plus_code': {'compound_code': 'V86V+4J Paris, France', 'global_code': '8FW4V86V+4J'}, 'rating': 4.5, 'reference': 'ChIJifTG5yFu5kcRdnisbwxnAx4', 'scope': 'GOOGLE', 'types': ['lodging', 'point_of_interest', 'establishment'], 'user_ratings_total': 265, 'vicinity': '19 Rue du Pont Neuf, Paris'}, {'business_status': 'OPERATIONAL', 'geometry': {'location': {'lat': 48.8555091, 'lng': 2.3408736}, 'viewport': {'northeast': {'lat': 48.8569130802915, 'lng': 2.342311480291502}, 'southwest': {'lat': 48.8542151197085, 'lng': 2.339613519708498}}}, 'icon': 'https://maps.gstatic.com/mapfiles/place_api/icons/lodging-71.png', 'id': 'da46237a58939495edf652bdf976bd44df477f05', 'name': 'Citadines Saint-Germain-des-Prés Paris', 'opening_hours': {'open_now': True}, 'photos': [{'height': 3024, 'html_attributions': ['<a href=\"https://maps.google.com/maps/contrib/116649065792056265685\">Gilsun LEE</a>'], 'photo_reference': 'CmRaAAAADcxLSnHOeZCZGUCl89r_rZKfvJEKSXXylWnd2dUkkHD0DEyum5BSKe2Po688s-CL2F_KajE6K86S6VO3ynuW0fjhzpylHw89Ig8BBYtXT-8zFlSBul6O0vQBZeCy593hEhA59YMfbuP5YT04iH-cD_n4GhREsKamqW8XRnrmvaIcR0hq8tzbLA', 'width': 4032}], 'place_id': 'ChIJo5pYcN9x5kcRERXdocMgqmE', 'plus_code': {'compound_code': 'V84R+68 Paris, France', 'global_code': '8FW4V84R+68'}, 'rating': 4.3, 'reference': 'ChIJo5pYcN9x5kcRERXdocMgqmE', 'scope': 'GOOGLE', 'types': ['lodging', 'point_of_interest', 'establishment'], 'user_ratings_total': 639, 'vicinity': '53 ter Quai des Grands Augustins, Paris'}, {'business_status': 'OPERATIONAL', 'geometry': {'location': {'lat': 48.86634659999999, 'lng': 2.36064}, 'viewport': {'northeast': {'lat': 48.8677623302915, 'lng': 2.361952180291502}, 'southwest': {'lat': 48.86506436970851, 'lng': 2.359254219708498}}}, 'icon': 'https://maps.gstatic.com/mapfiles/place_api/icons/lodging-71.png', 'id': '87ab2d184ee12f6be846d60470ed800629c99521', 'name': 'Paris France Hôtel', 'opening_hours': {'open_now': True}, 'photos': [{'height': 2673, 'html_attributions': ['<a href=\"https://maps.google.com/maps/contrib/102332962500946068613\">Paris France Hôtel</a>'], 'photo_reference': 'CmRaAAAA-Bh19yqp1vaSgcLqXWWxwaF4wMuLVUSoMgmDjZBwP7SjDqpQ77rMsSrPR_SNzoD6_nxmgN8vZPhkcc_llsQYMQxAcvCpcDVVBTpq3mTLG8kvUJOrl70k7Kn21CrfbZh2EhBSvMMOpmkSdnWx9zKlOnitGhQqdnUBOBVLlk-MogYfMd98bofO8A', 'width': 3463}], 'place_id': 'ChIJhXWLZg9u5kcRDVyqoZYgcmg', 'plus_code': {'compound_code': 'V986+G7 Paris, France', 'global_code': '8FW4V986+G7'}, 'rating': 4.3, 'reference': 'ChIJhXWLZg9u5kcRDVyqoZYgcmg', 'scope': 'GOOGLE', 'types': ['lodging', 'point_of_interest', 'establishment'], 'user_ratings_total': 366, 'vicinity': '72 Rue de Turbigo, Paris'}, {'business_status': 'OPERATIONAL', 'geometry': {'location': {'lat': 48.8549629, 'lng': 2.3331998}, 'viewport': {'northeast': {'lat': 48.8563280302915, 'lng': 2.334478630291502}, 'southwest': {'lat': 48.8536300697085, 'lng': 2.331780669708499}}}, 'icon': 'https://maps.gstatic.com/mapfiles/place_api/icons/lodging-71.png', 'id': 'd466793620469a720b439cf769a6f4c28217ef88', 'name': 'Hôtel Bel Ami', 'opening_hours': {'open_now': True}, 'photos': [{'height': 4377, 'html_attributions': ['<a href=\"https://maps.google.com/maps/contrib/111426311500153571368\">Hôtel Bel Ami</a>'], 'photo_reference': 'CmRaAAAASAcEsTG-ZeEzIy0g7g1Fj-v27dIzmvAXiEIa3TAUtLLrkxIIUUMABx0JvbZu9NrOE58jcQ3gkaVBPPH8ycyTXvcmzvjjfCHT5lPSCqEgJ6sfN2IaF-u1mFJbxIlVzz_mEhBOgsqBCwlNYOv2kmQfAPd3GhQWrqQUQdce-cdEGAGTR-RE4oxtKg', 'width': 6566}], 'place_id': 'ChIJj0jPiddx5kcRnYv-p3-vfCA', 'plus_code': {'compound_code': 'V83M+X7 Paris, France', 'global_code': '8FW4V83M+X7'}, 'rating': 4.6, 'reference': 'ChIJj0jPiddx5kcRnYv-p3-vfCA', 'scope': 'GOOGLE', 'types': ['spa', 'lodging', 'bar', 'restaurant', 'food', 'point_of_interest', 'establishment'], 'user_ratings_total': 449, 'vicinity': '7 Rue Saint-Benoît, Paris'}, {'business_status': 'OPERATIONAL', 'geometry': {'location': {'lat': 48.86386539999999, 'lng': 2.3325488}, 'viewport': {'northeast': {'lat': 48.8652309302915, 'lng': 2.333762030291502}, 'southwest': {'lat': 48.8625329697085, 'lng': 2.331064069708498}}}, 'icon': 'https://maps.gstatic.com/mapfiles/place_api/icons/lodging-71.png', 'id': '20dd8ae8d6ad9bbbe4ea9c6caf623fa071be187f', 'name': 'Hotel Regina Louvre', 'opening_hours': {'open_now': True}, 'photos': [{'height': 2828, 'html_attributions': ['<a href=\"https://maps.google.com/maps/contrib/109066439891801774697\">Hôtel Regina Louvre</a>'], 'photo_reference': 'CmRaAAAAMcecgTuY5gQ3G6vFTSmLsbVaQm-QnajzF_tkhFHonDdbCVUQgcTGV_Ge4s_TUb2zHlYPvY9RsT7SUcAL3SaNtZ8KETXjXI9Tl6pkELPU2tvmNdlF4-G7YgPuCFH-B0ijEhA2rdVz6UsedJ-3iBv_JG2UGhTPT-npfuiOSfbJr3vH2EjhX4XCDQ', 'width': 4242}], 'place_id': 'ChIJP_-HCS9u5kcRsj9b1x7Pl8w', 'plus_code': {'compound_code': 'V87M+G2 Paris, France', 'global_code': '8FW4V87M+G2'}, 'rating': 4.5, 'reference': 'ChIJP_-HCS9u5kcRsj9b1x7Pl8w', 'scope': 'GOOGLE', 'types': ['lodging', 'bar', 'restaurant', 'food', 'point_of_interest', 'establishment'], 'user_ratings_total': 496, 'vicinity': '2 Place des Pyramides, Paris'}, {'business_status': 'OPERATIONAL', 'geometry': {'location': {'lat': 48.84795229999999, 'lng': 2.370869}, 'viewport': {'northeast': {'lat': 48.84922153029149, 'lng': 2.372321980291502}, 'southwest': {'lat': 48.84652356970849, 'lng': 2.369624019708498}}}, 'icon': 'https://maps.gstatic.com/mapfiles/place_api/icons/lodging-71.png', 'id': '6662d8cf04aa119625278786b9a8b5042c30409c', 'name': 'ibis Paris Gare de Lyon Ledru Rollin 12ème', 'opening_hours': {'open_now': True}, 'photos': [{'height': 4128, 'html_attributions': ['<a href=\"https://maps.google.com/maps/contrib/101379513086988207219\">T Lovely</a>'], 'photo_reference': 'CmRaAAAAUrEC78dBVPn7MnNfX4UuRKOZET_eAbBS205DDRuxHbotC4wkcfbtZdfR7f-cgJ6lupLMSmk82K5Uq6wXrSijVT_i7-ynaZjwA82w5Ry8cCKT0xsg63sj4ZSywMPW08IsEhBX50xxwRlHkLX5OJy4T-D2GhR_oHOS9ODuw57X93HuWaaicjaIXA', 'width': 2322}], 'place_id': 'ChIJ9RNxcQNy5kcRnZJ4vsuXcow', 'plus_code': {'compound_code': 'R9XC+58 Paris, France', 'global_code': '8FW4R9XC+58'}, 'rating': 4, 'reference': 'ChIJ9RNxcQNy5kcRnZJ4vsuXcow', 'scope': 'GOOGLE', 'types': ['lodging', 'point_of_interest', 'establishment'], 'user_ratings_total': 727, 'vicinity': '41/43 Avenue Ledru-Rollin, Paris'}, {'business_status': 'OPERATIONAL', 'geometry': {'location': {'lat': 48.8475464, 'lng': 2.3718722}, 'viewport': {'northeast': {'lat': 48.8488750302915, 'lng': 2.373125480291502}, 'southwest': {'lat': 48.8461770697085, 'lng': 2.370427519708498}}}, 'icon': 'https://maps.gstatic.com/mapfiles/place_api/icons/lodging-71.png', 'id': 'dd8abb1bc4b1337fc3bd3f26e92d36c9a31de2fd', 'name': 'Hôtel De France Gare de Lyon Bastille', 'photos': [{'height': 3264, 'html_attributions': ['<a href=\"https://maps.google.com/maps/contrib/113588055173738079547\">Boris Diaz castillo</a>'], 'photo_reference': 'CmRaAAAAIELwsNecNWzeXwGoJDzcmjiRRxqOfATM2MMaOnFQ5sALa0M3uuzv3as5IcV3sbQjdgSOx9ak0yhBb0sP2ucRQpEnTfZki5GVbXH4qo_QJ802agB3rx7A_D6cWVP6iXKLEhDK8dPPOdgK9yAyuGBh6ng2GhRzeHzUiAdQbpdCbvtoMZy_1WbyLg', 'width': 2448}], 'place_id': 'ChIJz6DBYgNy5kcRhOu1LhDIECM', 'plus_code': {'compound_code': 'R9XC+2P Paris, France', 'global_code': '8FW4R9XC+2P'}, 'rating': 3.3, 'reference': 'ChIJz6DBYgNy5kcRhOu1LhDIECM', 'scope': 'GOOGLE', 'types': ['lodging', 'point_of_interest', 'establishment'], 'user_ratings_total': 374, 'vicinity': '12 Rue de Lyon, Paris'}, {'business_status': 'OPERATIONAL', 'geometry': {'location': {'lat': 48.8717386, 'lng': 2.3447052}, 'viewport': {'northeast': {'lat': 48.8731394302915, 'lng': 2.346067130291502}, 'southwest': {'lat': 48.8704414697085, 'lng': 2.343369169708498}}}, 'icon': 'https://maps.gstatic.com/mapfiles/place_api/icons/lodging-71.png', 'id': '78d0f620a6cdf990371302f25505f3916839f53a', 'name': 'Hôtel Corona Opéra', 'photos': [{'height': 3024, 'html_attributions': ['<a href=\"https://maps.google.com/maps/contrib/105311226083684825186\">福山慎一</a>'], 'photo_reference': 'CmRaAAAAjxDaVm2yrozqwCApFmtebhvgvsNFq8AEzYoeVZcDVwJeKGWTg7uroAp9Y8tQf3NEnhXXMO6QTxMH_xvt1uqL28YnCGMR-Cdc4oxL1wiYyR1hgdFwhd6Hp2Sll_STNdRPEhAwjPVky5VWAcTFZJpc_M-nGhROr3czXb19FJXhVYtC6pBVqAmnwQ', 'width': 4032}], 'place_id': 'ChIJ8e3Qcj5u5kcR2MIGwNxustk', 'plus_code': {'compound_code': 'V8CV+MV Paris, France', 'global_code': '8FW4V8CV+MV'}, 'rating': 4, 'reference': 'ChIJ8e3Qcj5u5kcR2MIGwNxustk', 'scope': 'GOOGLE', 'types': ['lodging', 'point_of_interest', 'establishment'], 'user_ratings_total': 301, 'vicinity': '8 Cité Bergère, Paris'}, {'business_status': 'OPERATIONAL', 'geometry': {'location': {'lat': 48.8423491, 'lng': 2.3632246}, 'viewport': {'northeast': {'lat': 48.84365308029151, 'lng': 2.364707180291502}, 'southwest': {'lat': 48.84095511970851, 'lng': 2.362009219708498}}}, 'icon': 'https://maps.gstatic.com/mapfiles/place_api/icons/lodging-71.png', 'id': 'c2c8e3f55bda0fd2bec95cd85db83c756bfebe2c', 'name': 'Hôtel Libertel Austerlitz Jardin des Plantes', 'opening_hours': {'open_now': True}, 'photos': [{'height': 683, 'html_attributions': ['<a href=\"https://maps.google.com/maps/contrib/113748802076686483057\">Hôtel Libertel Austerlitz Jardin des Plantes</a>'], 'photo_reference': 'CmRaAAAA_Am_kWsxbFRBKsgLp6yHGgWXHkK__hdOUczoFon0oAOGohMV-wcVt7LJpTIqVYeN0nKkiVHtNxrmEKkpZY8wG5ELV_lGMrN-8K4jkwqiy40PalCR2mMeC7BxIWyYr_S0EhD_cRMCIiDww9hnWvacdPRbGhRo2fYVwrCMOg3iQcCvOJZkQ8AJMw', 'width': 1024}], 'place_id': 'ChIJe-udXPZx5kcRKURHNFv5BSw', 'plus_code': {'compound_code': 'R9R7+W7 Paris, France', 'global_code': '8FW4R9R7+W7'}, 'rating': 3.9, 'reference': 'ChIJe-udXPZx5kcRKURHNFv5BSw', 'scope': 'GOOGLE', 'types': ['lodging', 'point_of_interest', 'establishment'], 'user_ratings_total': 416, 'vicinity': \"12 Boulevard de l'Hôpital, Paris\"}, {'business_status': 'OPERATIONAL', 'geometry': {'location': {'lat': 48.864294, 'lng': 2.3307997}, 'viewport': {'northeast': {'lat': 48.8655898302915, 'lng': 2.332108780291502}, 'southwest': {'lat': 48.8628918697085, 'lng': 2.329410819708498}}}, 'icon': 'https://maps.gstatic.com/mapfiles/place_api/icons/lodging-71.png', 'id': '50797fba20cc1e735c57820607b18b04abf162b9', 'name': 'Saint James Albany Paris Hôtel Spa', 'photos': [{'height': 650, 'html_attributions': ['<a href=\"https://maps.google.com/maps/contrib/108570400659068256718\">Saint James Albany Paris Hôtel Spa</a>'], 'photo_reference': 'CmRaAAAAitE-s30va0UywKcHwVkoRme5-vEEB5CwEhnWpGtgjB05-kE3wXcxt5r5R0ccNUf-qFj0-IYaPJwUoe78LhTRkG7Hi1uAm27mUDS9bPxbXLANM1uhlsxEmY9FUwZq6dqzEhCbY0fdneC_kBXG3_xygak3GhSoFAuBJqCOAoF0XlB7HBPPnFGhUA', 'width': 802}], 'place_id': 'ChIJ8znTVS5u5kcREq8TmzOICFs', 'plus_code': {'compound_code': 'V87J+P8 Paris, France', 'global_code': '8FW4V87J+P8'}, 'rating': 4, 'reference': 'ChIJ8znTVS5u5kcREq8TmzOICFs', 'scope': 'GOOGLE', 'types': ['spa', 'lodging', 'bar', 'restaurant', 'food', 'point_of_interest', 'establishment'], 'user_ratings_total': 1065, 'vicinity': '202 Rue de Rivoli, Paris'}, {'business_status': 'OPERATIONAL', 'geometry': {'location': {'lat': 48.87110329999999, 'lng': 2.3389728}, 'viewport': {'northeast': {'lat': 48.8724296802915, 'lng': 2.340311330291502}, 'southwest': {'lat': 48.8697317197085, 'lng': 2.337613369708498}}}, 'icon': 'https://maps.gstatic.com/mapfiles/place_api/icons/lodging-71.png', 'id': 'ef15575a5c2adf57431313a0af490a78350630a5', 'name': 'Hôtel Icône', 'opening_hours': {'open_now': True}, 'photos': [{'height': 1066, 'html_attributions': ['<a href=\"https://maps.google.com/maps/contrib/108137830440312077288\">Hôtel Icône</a>'], 'photo_reference': 'CmRaAAAAIwC73JgsseFHaugtO0c5mOY9RzN5cjMWXctQEAtJPWRD5efUfVAh8hJo3-6QfM0m6BLJnG-6UgzYgSTLfIwjJLhK1m6HyQthzH0xKIcD9u9PBZWzT1EA3KZn0ngxFElMEhBfOrHMc6uCML7etp3g6NDaGhSTJldcrCnTSlIOWJkhwqJ3lGimJA', 'width': 1600}], 'place_id': 'ChIJpQvq5Dtu5kcR0COam2f7v_I', 'plus_code': {'compound_code': 'V8CQ+CH Paris, France', 'global_code': '8FW4V8CQ+CH'}, 'rating': 3.7, 'reference': 'ChIJpQvq5Dtu5kcR0COam2f7v_I', 'scope': 'GOOGLE', 'types': ['lodging', 'point_of_interest', 'establishment'], 'user_ratings_total': 133, 'vicinity': \"4 Rue d'Amboise, Paris\"}, {'business_status': 'OPERATIONAL', 'geometry': {'location': {'lat': 48.8654924, 'lng': 2.3271121}, 'viewport': {'northeast': {'lat': 48.8667867302915, 'lng': 2.328593580291502}, 'southwest': {'lat': 48.8640887697085, 'lng': 2.325895619708498}}}, 'icon': 'https://maps.gstatic.com/mapfiles/place_api/icons/lodging-71.png', 'id': '751a05ec173f53ba581d8a32e047a69302c4886c', 'name': 'The Westin Paris - Vendôme', 'opening_hours': {'open_now': True}, 'photos': [{'height': 1366, 'html_attributions': ['<a href=\"https://maps.google.com/maps/contrib/110604580348447711691\">The Westin Paris - Vendôme</a>'], 'photo_reference': 'CmRaAAAAl2tAnb7sKdWST2ZQdc9uGeZ-jBhX4zz1lJoiOGtlLKihz6G6eL9_CPSDuvdK0ACO-rdWnvlCKaX8iBaqFkJ4JaL2HFtzAu5MX4rzQK2j0SRbuWR-tkl3MweQ3E-icG9-EhDRnI8-tI62ssBynoxx6JS8GhRn0i_BhevD7m2JzONBIvUBHCqJqA', 'width': 2048}], 'place_id': 'ChIJt4LY5C1u5kcRvVeuJebPxHc', 'plus_code': {'compound_code': 'V88G+5R Paris, France', 'global_code': '8FW4V88G+5R'}, 'rating': 4.4, 'reference': 'ChIJt4LY5C1u5kcRvVeuJebPxHc', 'scope': 'GOOGLE', 'types': ['lodging', 'point_of_interest', 'establishment'], 'user_ratings_total': 1998, 'vicinity': '3 Rue de Castiglione, Paris'}, {'business_status': 'OPERATIONAL', 'geometry': {'location': {'lat': 48.86038899999999, 'lng': 2.323112}, 'viewport': {'northeast': {'lat': 48.8617804302915, 'lng': 2.324489280291502}, 'southwest': {'lat': 48.8590824697085, 'lng': 2.321791319708499}}}, 'icon': 'https://maps.gstatic.com/mapfiles/place_api/icons/lodging-71.png', 'id': '7f368d30dd657e11d235029a91f97fb176c9bc9a', 'name': \"Hôtel 4 étoiles d'Orsay Paris 7ème - Esprit de France\", 'opening_hours': {'open_now': True}, 'photos': [{'height': 3840, 'html_attributions': ['<a href=\"https://maps.google.com/maps/contrib/115556676131195822021\">Hôtel 4 étoiles d&#39;Orsay Paris 7ème - Esprit de France</a>'], 'photo_reference': 'CmRaAAAA5hqJ5mZ-kvEEatSaZC_c_50pYT6eyYrKr2bfFfUCe0J96yqNPZ_eynMvD2DOZTjNOYDcY0EsnPnsGLwpVsd-NGpFLjnwKamS_Iv3-vc8ZSq-ghMLzDKu9ctXDBeAR_chEhBYiLWCVM2ORWtJ78thpBdGGhT2GYt2kUZ-eObr5vtjOvrh1ofz2w', 'width': 5760}], 'place_id': 'ChIJu39_OCtu5kcRWVQ7SFa0J-k', 'plus_code': {'compound_code': 'V86F+56 Paris, France', 'global_code': '8FW4V86F+56'}, 'rating': 4.6, 'reference': 'ChIJu39_OCtu5kcRWVQ7SFa0J-k', 'scope': 'GOOGLE', 'types': ['lodging', 'point_of_interest', 'establishment'], 'user_ratings_total': 205, 'vicinity': '93 Rue de Lille, Paris'}, {'business_status': 'OPERATIONAL', 'geometry': {'location': {'lat': 48.8661363, 'lng': 2.3260648}, 'viewport': {'northeast': {'lat': 48.8674534302915, 'lng': 2.327513280291502}, 'southwest': {'lat': 48.8647554697085, 'lng': 2.324815319708498}}}, 'icon': 'https://maps.gstatic.com/mapfiles/place_api/icons/lodging-71.png', 'id': '3706e8da44cbce856612cc5e666bd4e25076a0d8', 'name': 'Hôtel Mayfair Paris', 'opening_hours': {'open_now': True}, 'photos': [{'height': 1365, 'html_attributions': ['<a href=\"https://maps.google.com/maps/contrib/113789389085635834164\">Hôtel Mayfair Paris</a>'], 'photo_reference': 'CmRaAAAAhP-BKKypnhhfZn2ZanR9rdHssNuK17SrYabypdOE7ZWuZbJVv5sNHx2qoV8gDx0XylEdzhrouZdltDmgxz6hCizG4c0RXN-EVNed5rSzKWz8aU41NPzn95X4Pq-tNp-YEhBHyj6ZBG-anWQvxLsypadnGhSpGSbCNybaprZuCzoQr0Uf3sTK4A', 'width': 2048}], 'place_id': 'ChIJTXVIhS1u5kcRlm9-RG0srQs', 'plus_code': {'compound_code': 'V88G+FC Paris, France', 'global_code': '8FW4V88G+FC'}, 'rating': 4.2, 'reference': 'ChIJTXVIhS1u5kcRlm9-RG0srQs', 'scope': 'GOOGLE', 'types': ['lodging', 'point_of_interest', 'establishment'], 'user_ratings_total': 246, 'vicinity': '3 Rue Rouget de Lisle, Paris'}, {'business_status': 'OPERATIONAL', 'geometry': {'location': {'lat': 48.8758937, 'lng': 2.3591167}, 'viewport': {'northeast': {'lat': 48.8772932302915, 'lng': 2.360447230291502}, 'southwest': {'lat': 48.8745952697085, 'lng': 2.357749269708498}}}, 'icon': 'https://maps.gstatic.com/mapfiles/place_api/icons/lodging-71.png', 'id': '243057f371f2061f228c750901650cd7fb66d5e3', 'name': \"Holiday Inn Paris - Gare de l'Est\", 'opening_hours': {'open_now': True}, 'photos': [{'height': 1366, 'html_attributions': ['<a href=\"https://maps.google.com/maps/contrib/102027969916801631519\">Holiday Inn Paris - Gare de l&#39;Est</a>'], 'photo_reference': 'CmRaAAAACjkR8fDY26RS8wg0v1FbEDrkdrbqQ6KEatR4D_rJthQQbsbedQdx2EXxebxcYGB4mmhkBg7MvgXS_BxsY6nnZxS3TQw6hYP-vyJs32g1sb4aId7mGfWBIx5BN7Jiq_AzEhB5WA8agyTtC_8u7devzLYdGhSShS5az7RX1ESwf1YlUrufwr5U8w', 'width': 2048}], 'place_id': 'ChIJwUHJSg1u5kcRhNqw_oQNeKI', 'plus_code': {'compound_code': 'V9G5+9J Paris, France', 'global_code': '8FW4V9G5+9J'}, 'rating': 3.8, 'reference': 'ChIJwUHJSg1u5kcRhNqw_oQNeKI', 'scope': 'GOOGLE', 'types': ['lodging', 'point_of_interest', 'establishment'], 'user_ratings_total': 1516, 'vicinity': '45 Rue du 8 Mai 1945 5, Paris'}, {'business_status': 'OPERATIONAL', 'geometry': {'location': {'lat': 48.8722237, 'lng': 2.3333825}, 'viewport': {'northeast': {'lat': 48.8734762802915, 'lng': 2.334606530291502}, 'southwest': {'lat': 48.8707783197085, 'lng': 2.331908569708498}}}, 'icon': 'https://maps.gstatic.com/mapfiles/place_api/icons/lodging-71.png', 'id': 'f5498c1ca2d603ee13df8183a714828bca6cdd18', 'name': 'W Paris Opéra', 'opening_hours': {'open_now': True}, 'photos': [{'height': 1366, 'html_attributions': ['<a href=\"https://maps.google.com/maps/contrib/102893350184547703500\">W Paris - Opéra</a>'], 'photo_reference': 'CmRaAAAAZVc9rh7Dt0OCjLPPpul3z9N8b5WSReqym2DIgqMjVcsqMsfyzKescT8x7b0LlAP2edsDf522ap8P44vIwA8kGT8uuNLyjeBIptZXzFIceKXp7OvgZNglpysSRAMpTgqOEhAG0tiquyI70FSA9vzrJ5wSGhS4lR892iUePWGVMsxrqy6THMibsA', 'width': 2048}], 'place_id': 'ChIJiVMcgTRu5kcRbXfOviG7AqI', 'plus_code': {'compound_code': 'V8CM+V9 Paris, France', 'global_code': '8FW4V8CM+V9'}, 'rating': 4.2, 'reference': 'ChIJiVMcgTRu5kcRbXfOviG7AqI', 'scope': 'GOOGLE', 'types': ['lodging', 'point_of_interest', 'establishment'], 'user_ratings_total': 489, 'vicinity': '4 Rue Meyerbeer, Paris'}], 'status': 'OK'}\n"
     ]
    }
   ],
   "source": [
    "print(hotels)"
   ]
  },
  {
   "cell_type": "code",
   "execution_count": 31,
   "metadata": {},
   "outputs": [
    {
     "data": {
      "text/plain": [
       "20"
      ]
     },
     "execution_count": 31,
     "metadata": {},
     "output_type": "execute_result"
    }
   ],
   "source": [
    "len(hotels[\"results\"])"
   ]
  },
  {
   "cell_type": "code",
   "execution_count": null,
   "metadata": {},
   "outputs": [],
   "source": [
    "# Iterate through the DataFrame.\n",
    "for index, row in hotel_df.iterrows():\n",
    "    # Get the latitude and longitude.\n",
    "    lat = row[\"Lat\"]\n",
    "    lng = row[\"Lng\"]\n",
    "\n",
    "    # Add the latitude and longitude to location key for the params dictionary.\n",
    "    params[\"location\"] = f\"{lat},{lng}\"\n",
    "\n",
    "    # Use the search term: \"lodging\" and our latitude and longitude.\n",
    "    base_url = \"https://maps.googleapis.com/maps/api/place/nearbysearch/json\"\n",
    "    # Make request and get the JSON data from the search.\n",
    "    hotels = requests.get(base_url, params=params).json()\n",
    "    # Grab the first hotel from the results and store the name.\n",
    "  try:\n",
    "    hotel_df.loc[index, \"Hotel Name\"] = hotels[\"results\"][0][\"name\"]\n",
    "  except (IndexError):\n",
    "    print(\"Hotel not found... skipping.\")"
   ]
  },
  {
   "cell_type": "code",
   "execution_count": 35,
   "metadata": {},
   "outputs": [
    {
     "data": {
      "text/html": [
       "<div>\n",
       "<style scoped>\n",
       "    .dataframe tbody tr th:only-of-type {\n",
       "        vertical-align: middle;\n",
       "    }\n",
       "\n",
       "    .dataframe tbody tr th {\n",
       "        vertical-align: top;\n",
       "    }\n",
       "\n",
       "    .dataframe thead th {\n",
       "        text-align: right;\n",
       "    }\n",
       "</style>\n",
       "<table border=\"1\" class=\"dataframe\">\n",
       "  <thead>\n",
       "    <tr style=\"text-align: right;\">\n",
       "      <th></th>\n",
       "      <th>City</th>\n",
       "      <th>Country</th>\n",
       "      <th>Max Temp</th>\n",
       "      <th>Lat</th>\n",
       "      <th>Lng</th>\n",
       "      <th>Hotel Name</th>\n",
       "    </tr>\n",
       "  </thead>\n",
       "  <tbody>\n",
       "    <tr>\n",
       "      <th>4</th>\n",
       "      <td>Puerto Ayora</td>\n",
       "      <td>EC</td>\n",
       "      <td>75.20</td>\n",
       "      <td>-0.74</td>\n",
       "      <td>-90.35</td>\n",
       "      <td>Finch Bay Galapagos Hotel</td>\n",
       "    </tr>\n",
       "    <tr>\n",
       "      <th>6</th>\n",
       "      <td>Sokoni</td>\n",
       "      <td>TZ</td>\n",
       "      <td>75.20</td>\n",
       "      <td>-6.43</td>\n",
       "      <td>39.55</td>\n",
       "      <td>Ujamaa Beach Resort</td>\n",
       "    </tr>\n",
       "    <tr>\n",
       "      <th>8</th>\n",
       "      <td>Rikitea</td>\n",
       "      <td>PF</td>\n",
       "      <td>68.11</td>\n",
       "      <td>-23.12</td>\n",
       "      <td>-134.97</td>\n",
       "      <td>Pension Maro'i</td>\n",
       "    </tr>\n",
       "    <tr>\n",
       "      <th>17</th>\n",
       "      <td>Avarua</td>\n",
       "      <td>CK</td>\n",
       "      <td>75.20</td>\n",
       "      <td>-21.21</td>\n",
       "      <td>-159.78</td>\n",
       "      <td>Paradise Inn</td>\n",
       "    </tr>\n",
       "    <tr>\n",
       "      <th>18</th>\n",
       "      <td>Robertsport</td>\n",
       "      <td>LR</td>\n",
       "      <td>76.93</td>\n",
       "      <td>6.75</td>\n",
       "      <td>-11.37</td>\n",
       "      <td>Kwepunha Retreat</td>\n",
       "    </tr>\n",
       "    <tr>\n",
       "      <th>27</th>\n",
       "      <td>Ponta Do Sol</td>\n",
       "      <td>PT</td>\n",
       "      <td>72.00</td>\n",
       "      <td>32.67</td>\n",
       "      <td>-17.10</td>\n",
       "      <td>Hotel do Campo</td>\n",
       "    </tr>\n",
       "    <tr>\n",
       "      <th>31</th>\n",
       "      <td>Loikaw</td>\n",
       "      <td>MM</td>\n",
       "      <td>70.39</td>\n",
       "      <td>19.67</td>\n",
       "      <td>97.21</td>\n",
       "      <td>Myat Nan Taw Hotel</td>\n",
       "    </tr>\n",
       "    <tr>\n",
       "      <th>33</th>\n",
       "      <td>Urumqi</td>\n",
       "      <td>CN</td>\n",
       "      <td>78.80</td>\n",
       "      <td>43.80</td>\n",
       "      <td>87.60</td>\n",
       "      <td>Hua Ling Grand Hotel Urumqi</td>\n",
       "    </tr>\n",
       "    <tr>\n",
       "      <th>35</th>\n",
       "      <td>Noumea</td>\n",
       "      <td>NC</td>\n",
       "      <td>68.00</td>\n",
       "      <td>-22.28</td>\n",
       "      <td>166.46</td>\n",
       "      <td>Hôtel Le Lagon</td>\n",
       "    </tr>\n",
       "    <tr>\n",
       "      <th>47</th>\n",
       "      <td>Hilo</td>\n",
       "      <td>US</td>\n",
       "      <td>79.00</td>\n",
       "      <td>19.73</td>\n",
       "      <td>-155.09</td>\n",
       "      <td>Hilo Hawaiian Hotel</td>\n",
       "    </tr>\n",
       "  </tbody>\n",
       "</table>\n",
       "</div>"
      ],
      "text/plain": [
       "            City Country  Max Temp    Lat     Lng                   Hotel Name\n",
       "4   Puerto Ayora      EC     75.20  -0.74  -90.35    Finch Bay Galapagos Hotel\n",
       "6         Sokoni      TZ     75.20  -6.43   39.55          Ujamaa Beach Resort\n",
       "8        Rikitea      PF     68.11 -23.12 -134.97               Pension Maro'i\n",
       "17        Avarua      CK     75.20 -21.21 -159.78                 Paradise Inn\n",
       "18   Robertsport      LR     76.93   6.75  -11.37             Kwepunha Retreat\n",
       "27  Ponta Do Sol      PT     72.00  32.67  -17.10               Hotel do Campo\n",
       "31        Loikaw      MM     70.39  19.67   97.21           Myat Nan Taw Hotel\n",
       "33        Urumqi      CN     78.80  43.80   87.60  Hua Ling Grand Hotel Urumqi\n",
       "35        Noumea      NC     68.00 -22.28  166.46               Hôtel Le Lagon\n",
       "47          Hilo      US     79.00  19.73 -155.09          Hilo Hawaiian Hotel"
      ]
     },
     "execution_count": 35,
     "metadata": {},
     "output_type": "execute_result"
    }
   ],
   "source": [
    "hotel_df.head(10)"
   ]
  },
  {
   "cell_type": "code",
   "execution_count": 36,
   "metadata": {},
   "outputs": [
    {
     "data": {
      "application/vnd.jupyter.widget-view+json": {
       "model_id": "1010fece82e74b1ca516ca6e3f817a71",
       "version_major": 2,
       "version_minor": 0
      },
      "text/plain": [
       "Figure(layout=FigureLayout(height='420px'))"
      ]
     },
     "metadata": {},
     "output_type": "display_data"
    }
   ],
   "source": [
    "# Add a heatmap of temperature for the vacation spots.\n",
    "locations = hotel_df[[\"Lat\", \"Lng\"]]\n",
    "max_temp = hotel_df[\"Max Temp\"]\n",
    "fig = gmaps.figure(center=(30.0, 31.0), zoom_level=1.5)\n",
    "heat_layer = gmaps.heatmap_layer(locations, weights=max_temp, dissipating=False,\n",
    "             max_intensity=300, point_radius=4)\n",
    "\n",
    "fig.add_layer(heat_layer)\n",
    "# Call the figure to plot the data.\n",
    "fig"
   ]
  },
  {
   "cell_type": "code",
   "execution_count": 38,
   "metadata": {},
   "outputs": [],
   "source": [
    "info_box_template = \"\"\"\n",
    "<dl>\n",
    "<dt>Hotel Name</dt><dd>{Hotel Name}</dd>\n",
    "<dt>City</dt><dd>{City}</dd>\n",
    "<dt>Country</dt><dd>{Country}</dd>\n",
    "<dt>Max Temp</dt><dd>{Max Temp} °F</dd>\n",
    "</dl>\n",
    "\"\"\""
   ]
  },
  {
   "cell_type": "code",
   "execution_count": 39,
   "metadata": {},
   "outputs": [],
   "source": [
    "# Store the DataFrame Row.\n",
    "hotel_info = [info_box_template.format(**row) for index, row in hotel_df.iterrows()]"
   ]
  },
  {
   "cell_type": "code",
   "execution_count": 40,
   "metadata": {},
   "outputs": [
    {
     "data": {
      "application/vnd.jupyter.widget-view+json": {
       "model_id": "358230d2da92401194de85d2594390ed",
       "version_major": 2,
       "version_minor": 0
      },
      "text/plain": [
       "Figure(layout=FigureLayout(height='420px'))"
      ]
     },
     "metadata": {},
     "output_type": "display_data"
    }
   ],
   "source": [
    "# Add a heatmap of temperature for the vacation spots and a pop-up marker for each city.\n",
    "locations = hotel_df[[\"Lat\", \"Lng\"]]\n",
    "max_temp = hotel_df[\"Max Temp\"]\n",
    "fig = gmaps.figure(center=(30.0, 31.0), zoom_level=1.5)\n",
    "heat_layer = gmaps.heatmap_layer(locations, weights=max_temp,dissipating=False,\n",
    "             max_intensity=300, point_radius=4)\n",
    "marker_layer = gmaps.marker_layer(locations, info_box_content=hotel_info)\n",
    "fig.add_layer(heat_layer)\n",
    "fig.add_layer(marker_layer)\n",
    "\n",
    "# Call the figure to plot the data.\n",
    "fig"
   ]
  },
  {
   "cell_type": "code",
   "execution_count": null,
   "metadata": {},
   "outputs": [],
   "source": []
  }
 ],
 "metadata": {
  "kernelspec": {
   "display_name": "Python 3",
   "language": "python",
   "name": "python3"
  },
  "language_info": {
   "codemirror_mode": {
    "name": "ipython",
    "version": 3
   },
   "file_extension": ".py",
   "mimetype": "text/x-python",
   "name": "python",
   "nbconvert_exporter": "python",
   "pygments_lexer": "ipython3",
   "version": "3.7.6"
  }
 },
 "nbformat": 4,
 "nbformat_minor": 4
}
